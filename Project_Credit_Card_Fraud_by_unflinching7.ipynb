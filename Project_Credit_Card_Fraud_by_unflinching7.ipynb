{
  "nbformat": 4,
  "nbformat_minor": 0,
  "metadata": {
    "colab": {
      "provenance": [],
      "include_colab_link": true
    },
    "kernelspec": {
      "name": "python3",
      "display_name": "Python 3"
    },
    "language_info": {
      "name": "python"
    }
  },
  "cells": [
    {
      "cell_type": "markdown",
      "metadata": {
        "id": "view-in-github",
        "colab_type": "text"
      },
      "source": [
        "<a href=\"https://colab.research.google.com/github/unflinching7/A6UploadingData/blob/main/Project_Credit_Card_Fraud_by_unflinching7.ipynb\" target=\"_parent\"><img src=\"https://colab.research.google.com/assets/colab-badge.svg\" alt=\"Open In Colab\"/></a>"
      ]
    },
    {
      "cell_type": "markdown",
      "source": [
        "## Unveiling Fraud: A Comparative Analysis of Three Machine Learning Algorithms for Credit Card Fraud Detection\n",
        "\n",
        "\n",
        "By [unflinching7]"
      ],
      "metadata": {
        "id": "nToLIDPdXs8L"
      }
    },
    {
      "cell_type": "markdown",
      "source": [
        "## Abstract"
      ],
      "metadata": {
        "id": "auZtiktcbLgT"
      }
    },
    {
      "cell_type": "markdown",
      "source": [
        "This study investigates the efficacy of machine learning models in predicting credit card fraud. Three main research questions were addressed: 1) Which models perform best in fraud detection? 2) What variables contribute the most to the model performance? 3) What is the relationship between the top variables and fraudulent transactions? Logistic Regression emerged as the top-performing model, exhibiting the highest accuracy of 98.8% and discriminatory ability, supported by its AUC score of 98.0%. Model stacking, particularly with Logistic Regression as the base, showed potential for enhancing predictive performance (see Appendix for a detailed analysis of model stacking). The top contributing variables identified by Logistic Regression, namely V14, V3, and V17, exhibited robust negative correlations with fraudulent transactions. These findings underscore the importance of employing advanced machine learning techniques and feature engineering to combat financial fraud effectively.\n"
      ],
      "metadata": {
        "id": "ZVDgt99bTAQ8"
      }
    },
    {
      "cell_type": "markdown",
      "source": [
        "## Introduction"
      ],
      "metadata": {
        "id": "eu4k_pwobIgD"
      }
    },
    {
      "cell_type": "markdown",
      "source": [
        "Credit card fraud is a pervasive threat in today's digital age, with billions of dollars lost annually due to fraudulent activities (Egan, 2023). The increasing reliance on online transactions and digital payment systems has exacerbated the risk, making it imperative for financial institutions and consumers to implement robust fraud detection measures. Despite efforts to combat fraud, the problem persists, affecting individuals and businesses alike.\n",
        "\n",
        "The implications of credit card fraud extend beyond financial losses; they erode trust in electronic payment systems and undermine the integrity of the entire financial ecosystem. Consumers face the constant threat of identity theft and unauthorized transactions, while businesses bear the burden of chargebacks and reputational damage. As such, there is a pressing need for innovative solutions to detect and prevent fraudulent activities effectively.\n",
        "\n",
        "In this study, the realm of credit card fraud detection is explored, aiming to evaluate the efficacy of machine learning algorithms in identifying fraudulent transactions. By analyzing and comparing the performance of these algorithms, insights are sought to empower stakeholders to enhance security measures and mitigate the risks associated with credit card fraud. Through this investigation, an endeavor is made to contribute to the ongoing efforts to create a safer and more secure digital environment for financial transactions.\n",
        "\n",
        "\n"
      ],
      "metadata": {
        "id": "6VGTdqScLIqE"
      }
    },
    {
      "cell_type": "markdown",
      "source": [
        "## Literature Review"
      ],
      "metadata": {
        "id": "PpIOCoF_bAob"
      }
    },
    {
      "cell_type": "markdown",
      "source": [
        "Recent studies in credit card fraud detection (CCFD) underscore the efficacy of machine learning (ML) and deep learning techniques in identifying fraudulent transactions. Fu et al. (2016) and Zorion et al. (2023) demonstrate notable success in credit card fraud detection using deep learning architectures, despite the challenges posed by imbalanced datasets common in fraud scenarios. Additionally, Bodepudi (2021) investigates unsupervised anomaly detection methods to detect outliers indicative of potential fraudulent activity. These investigations underscore the ongoing efforts of researchers to refine ML algorithms and address increasingly sophisticated fraud attempts.\n"
      ],
      "metadata": {
        "id": "hqB5iZbGNVcU"
      }
    },
    {
      "cell_type": "markdown",
      "source": [
        "## Research Questions"
      ],
      "metadata": {
        "id": "4H47Kw7jbF2z"
      }
    },
    {
      "cell_type": "markdown",
      "source": [
        "1. Which machine learning algorithms demonstrate superior performance in predicting credit card fraud?\n",
        "2. Which three variables exhibit the highest contribution to the performance of the selected algorithms?\n",
        "3. What is the nature of the relationship between the three most significant independent variables and the dependent variable (Class)? Is the relationship positive or negative?\n"
      ],
      "metadata": {
        "id": "562Q4CVpZFib"
      }
    },
    {
      "cell_type": "markdown",
      "source": [
        "## Methodology"
      ],
      "metadata": {
        "id": "kYFg_zPKbg7T"
      }
    },
    {
      "cell_type": "markdown",
      "source": [
        "**Dataset:**\n",
        "The dataset utilized in this study consists of a subset of transactions made by European cardholders during September 2013. The original, full-sized dataset was collected as part of a research collaboration between Worldline, the Machine Learning Group (http://mlg.ulb.ac.be), and Université Libre de Bruxelles (ULB) on big data mining and fraud detection. The full-sized dataset, containing a total of 284,807 transactions, along with a list of researchers involved, can be accessed at https://www.kaggle.com/datasets/mlg-ulb/creditcardfraud.\n",
        "\n",
        "To facilitate analysis in Google Colab, a smaller dataset comprising 10,000 transactions was compiled by Sean Humpherys. This smaller dataset includes all cases of fraud (n = 492) present in the original dataset, as well as a random sampling of non-fraud cases (n = 9,508). It is important to note that the dataset is imbalanced, with only 4.92% of transactions being fraudulent. The smaller dataset can be accessed at https://raw.githubusercontent.com/sean-humpherys/randomfilestorage/main/cc_transactions_10000.csv <br><br>\n",
        "\n",
        "\n",
        "**Dependent Variable.** The dependent variable in this study is the \"Class\" variable, which represents the occurrence of credit card fraud. In the dataset, the values of the \"Class\" variable are binary, with a value of 0 indicating a non-fraudulent transaction and a value of 1 indicating a fraudulent transaction. Thus, the \"Class\" variable serves as the target variable for the predictive modeling tasks, with the aim of developing algorithms capable of accurately distinguishing between genuine and fraudulent transactions based on the available features.\n",
        "<br><br>\n",
        "**Independent Variables.**\n",
        "- *Time*: The number of seconds elapsed between each transaction and the first transaction in the dataset.\n",
        "- *V1 through V28*: These variables represent the principal components obtained through PCA dimensionality reduction. The values are transformed to protect user identities and sensitive features while retaining their relationship with the dependent variable, \"Class.\"\n",
        "- *Amount*: The amount of the credit card transaction in Euros.\n",
        "\n",
        "These independent variables serve as the input features used to predict the occurrence of credit card fraud (the dependent variable, \"Class\").\n",
        "<br><br>\n",
        "**Algorithms**\n",
        "\n",
        "In this analysis, three machine learning algorithms will be employed to predict credit card fraud: logistic regression, neural network, and support vector machine (SVM).\n",
        "\n",
        "1. Logistic Regression:\n",
        "   - Logistic regression is a classic algorithm for binary classification tasks.\n",
        "   - It models the probability of a binary outcome using the logistic function.\n",
        "   - Despite its simplicity, logistic regression can provide interpretable results and is computationally efficient.\n",
        "\n",
        "2. Neural Network:\n",
        "   - Neural networks, particularly deep learning architectures, are adept at capturing intricate patterns in data.\n",
        "   - A feedforward neural network with multiple hidden layers will be utilized in this study.\n",
        "   - Neural networks excel in modeling nonlinear relationships and have demonstrated success in various classification tasks.\n",
        "\n",
        "3. Support Vector Machine (SVM):\n",
        "   - SVM is a versatile algorithm for both classification and regression tasks.\n",
        "   - It identifies the optimal hyperplane that separates data points into different classes while maximizing the margin.\n",
        "   - SVM is effective in handling high-dimensional data and capturing complex decision boundaries.\n",
        "\n",
        "**Performance Metrics**\n",
        "\n",
        "To evaluate the performance of each algorithm, the following metrics will be utilized:\n",
        "\n",
        "- **Accuracy:** Measures the overall correctness of the model predictions.\n",
        "- **Precision:** Indicates the proportion of true positive predictions among all positive predictions.\n",
        "- **Recall:** Measures the proportion of actual positives that were correctly identified by the model.\n",
        "- **Area Under the ROC Curve (AUC-ROC):** Evaluates the model's ability to distinguish between classes across different threshold values.\n",
        "- **Confusion Matrix:** Provides a tabular representation of the model's predictions against the actual class labels.\n",
        "\n",
        "Based on the performance metrics reported, a determination will be made regarding which machine learning algorithm exhibits the most effective performance in predicting credit card fraud.\n",
        "\n",
        "<br><br>\n",
        "\n"
      ],
      "metadata": {
        "id": "V6KyTUMiZlgs"
      }
    },
    {
      "cell_type": "markdown",
      "source": [
        "## Results"
      ],
      "metadata": {
        "id": "2__enqjNa0J8"
      }
    },
    {
      "cell_type": "code",
      "source": [
        "# Load the credit card data\n",
        "import pandas as pd\n",
        "df = pd.read_csv('https://raw.githubusercontent.com/sean-humpherys/randomfilestorage/main/cc_transactions_10000.csv')\n",
        "df.describe()"
      ],
      "metadata": {
        "id": "tp9L8-TNYJBL",
        "colab": {
          "base_uri": "https://localhost:8080/",
          "height": 350
        },
        "outputId": "a06d8d89-3347-46f4-95d3-3bf3a9bfa639"
      },
      "execution_count": null,
      "outputs": [
        {
          "output_type": "execute_result",
          "data": {
            "text/plain": [
              "                Time            V1            V2            V3            V4  \\\n",
              "count   10000.000000  10000.000000  10000.000000  10000.000000  10000.000000   \n",
              "mean    94556.430200     -0.232423      0.179783     -0.357002      0.212654   \n",
              "std     47476.185696      2.591826      1.970276      2.599102      1.802081   \n",
              "min         0.000000    -30.552380    -29.336007    -31.103685     -4.790224   \n",
              "25%     54051.750000     -1.008727     -0.567822     -1.074893     -0.806092   \n",
              "50%     85083.500000     -0.061033      0.111359      0.081684      0.055539   \n",
              "75%    139004.750000      1.281665      0.896952      0.966433      0.900644   \n",
              "max    172768.000000      2.398119     22.057729      3.770236     12.114672   \n",
              "\n",
              "                 V5            V6            V7            V8            V9  \\\n",
              "count  10000.000000  10000.000000  10000.000000  10000.000000  10000.000000   \n",
              "mean      -0.124602     -0.070630     -0.261804      0.034599     -0.111454   \n",
              "std        1.894479      1.400646      2.284173      1.848990      1.333441   \n",
              "min      -22.105532    -17.282140    -43.557242    -41.044261    -13.434066   \n",
              "25%       -0.724259     -0.820519     -0.624710     -0.210099     -0.713535   \n",
              "50%       -0.057702     -0.301126      0.020360      0.030040     -0.075087   \n",
              "75%        0.637133      0.374729      0.576932      0.356684      0.578514   \n",
              "max       28.516513     15.323769     15.915767     20.007208      7.929051   \n",
              "\n",
              "       ...           V21           V22           V23           V24  \\\n",
              "count  ...  10000.000000  10000.000000  10000.000000  10000.000000   \n",
              "mean   ...      0.034720      0.003403     -0.000442     -0.009036   \n",
              "std    ...      1.112734      0.771793      0.637262      0.609786   \n",
              "min    ...    -22.797604     -8.887017    -19.254328     -2.836627   \n",
              "25%    ...     -0.221082     -0.539801     -0.168963     -0.361972   \n",
              "50%    ...     -0.018758      0.008368     -0.012581      0.034864   \n",
              "75%    ...      0.204659      0.525961      0.153982      0.429143   \n",
              "max    ...     27.202839      8.361985     13.750136      3.951679   \n",
              "\n",
              "                V25           V26           V27           V28        Amount  \\\n",
              "count  10000.000000  10000.000000  10000.000000  10000.000000  10000.000000   \n",
              "mean      -0.005892      0.001819      0.009840      0.004504     88.343145   \n",
              "std        0.538342      0.482085      0.484606      0.335693    224.618573   \n",
              "min       -4.781606     -1.535092     -7.263482     -8.307955      0.000000   \n",
              "25%       -0.328923     -0.330272     -0.069869     -0.052267      4.937500   \n",
              "50%        0.017182     -0.048559      0.004797      0.012732     21.000000   \n",
              "75%        0.353553      0.255971      0.106253      0.086981     79.000000   \n",
              "max        2.782860      2.859167      4.610936     15.373170   5627.060000   \n",
              "\n",
              "              Class  \n",
              "count  10000.000000  \n",
              "mean       0.049200  \n",
              "std        0.216296  \n",
              "min        0.000000  \n",
              "25%        0.000000  \n",
              "50%        0.000000  \n",
              "75%        0.000000  \n",
              "max        1.000000  \n",
              "\n",
              "[8 rows x 31 columns]"
            ],
            "text/html": [
              "\n",
              "  <div id=\"df-b249201f-2baf-4559-8839-7bf7533aef17\" class=\"colab-df-container\">\n",
              "    <div>\n",
              "<style scoped>\n",
              "    .dataframe tbody tr th:only-of-type {\n",
              "        vertical-align: middle;\n",
              "    }\n",
              "\n",
              "    .dataframe tbody tr th {\n",
              "        vertical-align: top;\n",
              "    }\n",
              "\n",
              "    .dataframe thead th {\n",
              "        text-align: right;\n",
              "    }\n",
              "</style>\n",
              "<table border=\"1\" class=\"dataframe\">\n",
              "  <thead>\n",
              "    <tr style=\"text-align: right;\">\n",
              "      <th></th>\n",
              "      <th>Time</th>\n",
              "      <th>V1</th>\n",
              "      <th>V2</th>\n",
              "      <th>V3</th>\n",
              "      <th>V4</th>\n",
              "      <th>V5</th>\n",
              "      <th>V6</th>\n",
              "      <th>V7</th>\n",
              "      <th>V8</th>\n",
              "      <th>V9</th>\n",
              "      <th>...</th>\n",
              "      <th>V21</th>\n",
              "      <th>V22</th>\n",
              "      <th>V23</th>\n",
              "      <th>V24</th>\n",
              "      <th>V25</th>\n",
              "      <th>V26</th>\n",
              "      <th>V27</th>\n",
              "      <th>V28</th>\n",
              "      <th>Amount</th>\n",
              "      <th>Class</th>\n",
              "    </tr>\n",
              "  </thead>\n",
              "  <tbody>\n",
              "    <tr>\n",
              "      <th>count</th>\n",
              "      <td>10000.000000</td>\n",
              "      <td>10000.000000</td>\n",
              "      <td>10000.000000</td>\n",
              "      <td>10000.000000</td>\n",
              "      <td>10000.000000</td>\n",
              "      <td>10000.000000</td>\n",
              "      <td>10000.000000</td>\n",
              "      <td>10000.000000</td>\n",
              "      <td>10000.000000</td>\n",
              "      <td>10000.000000</td>\n",
              "      <td>...</td>\n",
              "      <td>10000.000000</td>\n",
              "      <td>10000.000000</td>\n",
              "      <td>10000.000000</td>\n",
              "      <td>10000.000000</td>\n",
              "      <td>10000.000000</td>\n",
              "      <td>10000.000000</td>\n",
              "      <td>10000.000000</td>\n",
              "      <td>10000.000000</td>\n",
              "      <td>10000.000000</td>\n",
              "      <td>10000.000000</td>\n",
              "    </tr>\n",
              "    <tr>\n",
              "      <th>mean</th>\n",
              "      <td>94556.430200</td>\n",
              "      <td>-0.232423</td>\n",
              "      <td>0.179783</td>\n",
              "      <td>-0.357002</td>\n",
              "      <td>0.212654</td>\n",
              "      <td>-0.124602</td>\n",
              "      <td>-0.070630</td>\n",
              "      <td>-0.261804</td>\n",
              "      <td>0.034599</td>\n",
              "      <td>-0.111454</td>\n",
              "      <td>...</td>\n",
              "      <td>0.034720</td>\n",
              "      <td>0.003403</td>\n",
              "      <td>-0.000442</td>\n",
              "      <td>-0.009036</td>\n",
              "      <td>-0.005892</td>\n",
              "      <td>0.001819</td>\n",
              "      <td>0.009840</td>\n",
              "      <td>0.004504</td>\n",
              "      <td>88.343145</td>\n",
              "      <td>0.049200</td>\n",
              "    </tr>\n",
              "    <tr>\n",
              "      <th>std</th>\n",
              "      <td>47476.185696</td>\n",
              "      <td>2.591826</td>\n",
              "      <td>1.970276</td>\n",
              "      <td>2.599102</td>\n",
              "      <td>1.802081</td>\n",
              "      <td>1.894479</td>\n",
              "      <td>1.400646</td>\n",
              "      <td>2.284173</td>\n",
              "      <td>1.848990</td>\n",
              "      <td>1.333441</td>\n",
              "      <td>...</td>\n",
              "      <td>1.112734</td>\n",
              "      <td>0.771793</td>\n",
              "      <td>0.637262</td>\n",
              "      <td>0.609786</td>\n",
              "      <td>0.538342</td>\n",
              "      <td>0.482085</td>\n",
              "      <td>0.484606</td>\n",
              "      <td>0.335693</td>\n",
              "      <td>224.618573</td>\n",
              "      <td>0.216296</td>\n",
              "    </tr>\n",
              "    <tr>\n",
              "      <th>min</th>\n",
              "      <td>0.000000</td>\n",
              "      <td>-30.552380</td>\n",
              "      <td>-29.336007</td>\n",
              "      <td>-31.103685</td>\n",
              "      <td>-4.790224</td>\n",
              "      <td>-22.105532</td>\n",
              "      <td>-17.282140</td>\n",
              "      <td>-43.557242</td>\n",
              "      <td>-41.044261</td>\n",
              "      <td>-13.434066</td>\n",
              "      <td>...</td>\n",
              "      <td>-22.797604</td>\n",
              "      <td>-8.887017</td>\n",
              "      <td>-19.254328</td>\n",
              "      <td>-2.836627</td>\n",
              "      <td>-4.781606</td>\n",
              "      <td>-1.535092</td>\n",
              "      <td>-7.263482</td>\n",
              "      <td>-8.307955</td>\n",
              "      <td>0.000000</td>\n",
              "      <td>0.000000</td>\n",
              "    </tr>\n",
              "    <tr>\n",
              "      <th>25%</th>\n",
              "      <td>54051.750000</td>\n",
              "      <td>-1.008727</td>\n",
              "      <td>-0.567822</td>\n",
              "      <td>-1.074893</td>\n",
              "      <td>-0.806092</td>\n",
              "      <td>-0.724259</td>\n",
              "      <td>-0.820519</td>\n",
              "      <td>-0.624710</td>\n",
              "      <td>-0.210099</td>\n",
              "      <td>-0.713535</td>\n",
              "      <td>...</td>\n",
              "      <td>-0.221082</td>\n",
              "      <td>-0.539801</td>\n",
              "      <td>-0.168963</td>\n",
              "      <td>-0.361972</td>\n",
              "      <td>-0.328923</td>\n",
              "      <td>-0.330272</td>\n",
              "      <td>-0.069869</td>\n",
              "      <td>-0.052267</td>\n",
              "      <td>4.937500</td>\n",
              "      <td>0.000000</td>\n",
              "    </tr>\n",
              "    <tr>\n",
              "      <th>50%</th>\n",
              "      <td>85083.500000</td>\n",
              "      <td>-0.061033</td>\n",
              "      <td>0.111359</td>\n",
              "      <td>0.081684</td>\n",
              "      <td>0.055539</td>\n",
              "      <td>-0.057702</td>\n",
              "      <td>-0.301126</td>\n",
              "      <td>0.020360</td>\n",
              "      <td>0.030040</td>\n",
              "      <td>-0.075087</td>\n",
              "      <td>...</td>\n",
              "      <td>-0.018758</td>\n",
              "      <td>0.008368</td>\n",
              "      <td>-0.012581</td>\n",
              "      <td>0.034864</td>\n",
              "      <td>0.017182</td>\n",
              "      <td>-0.048559</td>\n",
              "      <td>0.004797</td>\n",
              "      <td>0.012732</td>\n",
              "      <td>21.000000</td>\n",
              "      <td>0.000000</td>\n",
              "    </tr>\n",
              "    <tr>\n",
              "      <th>75%</th>\n",
              "      <td>139004.750000</td>\n",
              "      <td>1.281665</td>\n",
              "      <td>0.896952</td>\n",
              "      <td>0.966433</td>\n",
              "      <td>0.900644</td>\n",
              "      <td>0.637133</td>\n",
              "      <td>0.374729</td>\n",
              "      <td>0.576932</td>\n",
              "      <td>0.356684</td>\n",
              "      <td>0.578514</td>\n",
              "      <td>...</td>\n",
              "      <td>0.204659</td>\n",
              "      <td>0.525961</td>\n",
              "      <td>0.153982</td>\n",
              "      <td>0.429143</td>\n",
              "      <td>0.353553</td>\n",
              "      <td>0.255971</td>\n",
              "      <td>0.106253</td>\n",
              "      <td>0.086981</td>\n",
              "      <td>79.000000</td>\n",
              "      <td>0.000000</td>\n",
              "    </tr>\n",
              "    <tr>\n",
              "      <th>max</th>\n",
              "      <td>172768.000000</td>\n",
              "      <td>2.398119</td>\n",
              "      <td>22.057729</td>\n",
              "      <td>3.770236</td>\n",
              "      <td>12.114672</td>\n",
              "      <td>28.516513</td>\n",
              "      <td>15.323769</td>\n",
              "      <td>15.915767</td>\n",
              "      <td>20.007208</td>\n",
              "      <td>7.929051</td>\n",
              "      <td>...</td>\n",
              "      <td>27.202839</td>\n",
              "      <td>8.361985</td>\n",
              "      <td>13.750136</td>\n",
              "      <td>3.951679</td>\n",
              "      <td>2.782860</td>\n",
              "      <td>2.859167</td>\n",
              "      <td>4.610936</td>\n",
              "      <td>15.373170</td>\n",
              "      <td>5627.060000</td>\n",
              "      <td>1.000000</td>\n",
              "    </tr>\n",
              "  </tbody>\n",
              "</table>\n",
              "<p>8 rows × 31 columns</p>\n",
              "</div>\n",
              "    <div class=\"colab-df-buttons\">\n",
              "\n",
              "  <div class=\"colab-df-container\">\n",
              "    <button class=\"colab-df-convert\" onclick=\"convertToInteractive('df-b249201f-2baf-4559-8839-7bf7533aef17')\"\n",
              "            title=\"Convert this dataframe to an interactive table.\"\n",
              "            style=\"display:none;\">\n",
              "\n",
              "  <svg xmlns=\"http://www.w3.org/2000/svg\" height=\"24px\" viewBox=\"0 -960 960 960\">\n",
              "    <path d=\"M120-120v-720h720v720H120Zm60-500h600v-160H180v160Zm220 220h160v-160H400v160Zm0 220h160v-160H400v160ZM180-400h160v-160H180v160Zm440 0h160v-160H620v160ZM180-180h160v-160H180v160Zm440 0h160v-160H620v160Z\"/>\n",
              "  </svg>\n",
              "    </button>\n",
              "\n",
              "  <style>\n",
              "    .colab-df-container {\n",
              "      display:flex;\n",
              "      gap: 12px;\n",
              "    }\n",
              "\n",
              "    .colab-df-convert {\n",
              "      background-color: #E8F0FE;\n",
              "      border: none;\n",
              "      border-radius: 50%;\n",
              "      cursor: pointer;\n",
              "      display: none;\n",
              "      fill: #1967D2;\n",
              "      height: 32px;\n",
              "      padding: 0 0 0 0;\n",
              "      width: 32px;\n",
              "    }\n",
              "\n",
              "    .colab-df-convert:hover {\n",
              "      background-color: #E2EBFA;\n",
              "      box-shadow: 0px 1px 2px rgba(60, 64, 67, 0.3), 0px 1px 3px 1px rgba(60, 64, 67, 0.15);\n",
              "      fill: #174EA6;\n",
              "    }\n",
              "\n",
              "    .colab-df-buttons div {\n",
              "      margin-bottom: 4px;\n",
              "    }\n",
              "\n",
              "    [theme=dark] .colab-df-convert {\n",
              "      background-color: #3B4455;\n",
              "      fill: #D2E3FC;\n",
              "    }\n",
              "\n",
              "    [theme=dark] .colab-df-convert:hover {\n",
              "      background-color: #434B5C;\n",
              "      box-shadow: 0px 1px 3px 1px rgba(0, 0, 0, 0.15);\n",
              "      filter: drop-shadow(0px 1px 2px rgba(0, 0, 0, 0.3));\n",
              "      fill: #FFFFFF;\n",
              "    }\n",
              "  </style>\n",
              "\n",
              "    <script>\n",
              "      const buttonEl =\n",
              "        document.querySelector('#df-b249201f-2baf-4559-8839-7bf7533aef17 button.colab-df-convert');\n",
              "      buttonEl.style.display =\n",
              "        google.colab.kernel.accessAllowed ? 'block' : 'none';\n",
              "\n",
              "      async function convertToInteractive(key) {\n",
              "        const element = document.querySelector('#df-b249201f-2baf-4559-8839-7bf7533aef17');\n",
              "        const dataTable =\n",
              "          await google.colab.kernel.invokeFunction('convertToInteractive',\n",
              "                                                    [key], {});\n",
              "        if (!dataTable) return;\n",
              "\n",
              "        const docLinkHtml = 'Like what you see? Visit the ' +\n",
              "          '<a target=\"_blank\" href=https://colab.research.google.com/notebooks/data_table.ipynb>data table notebook</a>'\n",
              "          + ' to learn more about interactive tables.';\n",
              "        element.innerHTML = '';\n",
              "        dataTable['output_type'] = 'display_data';\n",
              "        await google.colab.output.renderOutput(dataTable, element);\n",
              "        const docLink = document.createElement('div');\n",
              "        docLink.innerHTML = docLinkHtml;\n",
              "        element.appendChild(docLink);\n",
              "      }\n",
              "    </script>\n",
              "  </div>\n",
              "\n",
              "\n",
              "<div id=\"df-987baf10-2f79-41e6-901c-ee5c29627215\">\n",
              "  <button class=\"colab-df-quickchart\" onclick=\"quickchart('df-987baf10-2f79-41e6-901c-ee5c29627215')\"\n",
              "            title=\"Suggest charts\"\n",
              "            style=\"display:none;\">\n",
              "\n",
              "<svg xmlns=\"http://www.w3.org/2000/svg\" height=\"24px\"viewBox=\"0 0 24 24\"\n",
              "     width=\"24px\">\n",
              "    <g>\n",
              "        <path d=\"M19 3H5c-1.1 0-2 .9-2 2v14c0 1.1.9 2 2 2h14c1.1 0 2-.9 2-2V5c0-1.1-.9-2-2-2zM9 17H7v-7h2v7zm4 0h-2V7h2v10zm4 0h-2v-4h2v4z\"/>\n",
              "    </g>\n",
              "</svg>\n",
              "  </button>\n",
              "\n",
              "<style>\n",
              "  .colab-df-quickchart {\n",
              "      --bg-color: #E8F0FE;\n",
              "      --fill-color: #1967D2;\n",
              "      --hover-bg-color: #E2EBFA;\n",
              "      --hover-fill-color: #174EA6;\n",
              "      --disabled-fill-color: #AAA;\n",
              "      --disabled-bg-color: #DDD;\n",
              "  }\n",
              "\n",
              "  [theme=dark] .colab-df-quickchart {\n",
              "      --bg-color: #3B4455;\n",
              "      --fill-color: #D2E3FC;\n",
              "      --hover-bg-color: #434B5C;\n",
              "      --hover-fill-color: #FFFFFF;\n",
              "      --disabled-bg-color: #3B4455;\n",
              "      --disabled-fill-color: #666;\n",
              "  }\n",
              "\n",
              "  .colab-df-quickchart {\n",
              "    background-color: var(--bg-color);\n",
              "    border: none;\n",
              "    border-radius: 50%;\n",
              "    cursor: pointer;\n",
              "    display: none;\n",
              "    fill: var(--fill-color);\n",
              "    height: 32px;\n",
              "    padding: 0;\n",
              "    width: 32px;\n",
              "  }\n",
              "\n",
              "  .colab-df-quickchart:hover {\n",
              "    background-color: var(--hover-bg-color);\n",
              "    box-shadow: 0 1px 2px rgba(60, 64, 67, 0.3), 0 1px 3px 1px rgba(60, 64, 67, 0.15);\n",
              "    fill: var(--button-hover-fill-color);\n",
              "  }\n",
              "\n",
              "  .colab-df-quickchart-complete:disabled,\n",
              "  .colab-df-quickchart-complete:disabled:hover {\n",
              "    background-color: var(--disabled-bg-color);\n",
              "    fill: var(--disabled-fill-color);\n",
              "    box-shadow: none;\n",
              "  }\n",
              "\n",
              "  .colab-df-spinner {\n",
              "    border: 2px solid var(--fill-color);\n",
              "    border-color: transparent;\n",
              "    border-bottom-color: var(--fill-color);\n",
              "    animation:\n",
              "      spin 1s steps(1) infinite;\n",
              "  }\n",
              "\n",
              "  @keyframes spin {\n",
              "    0% {\n",
              "      border-color: transparent;\n",
              "      border-bottom-color: var(--fill-color);\n",
              "      border-left-color: var(--fill-color);\n",
              "    }\n",
              "    20% {\n",
              "      border-color: transparent;\n",
              "      border-left-color: var(--fill-color);\n",
              "      border-top-color: var(--fill-color);\n",
              "    }\n",
              "    30% {\n",
              "      border-color: transparent;\n",
              "      border-left-color: var(--fill-color);\n",
              "      border-top-color: var(--fill-color);\n",
              "      border-right-color: var(--fill-color);\n",
              "    }\n",
              "    40% {\n",
              "      border-color: transparent;\n",
              "      border-right-color: var(--fill-color);\n",
              "      border-top-color: var(--fill-color);\n",
              "    }\n",
              "    60% {\n",
              "      border-color: transparent;\n",
              "      border-right-color: var(--fill-color);\n",
              "    }\n",
              "    80% {\n",
              "      border-color: transparent;\n",
              "      border-right-color: var(--fill-color);\n",
              "      border-bottom-color: var(--fill-color);\n",
              "    }\n",
              "    90% {\n",
              "      border-color: transparent;\n",
              "      border-bottom-color: var(--fill-color);\n",
              "    }\n",
              "  }\n",
              "</style>\n",
              "\n",
              "  <script>\n",
              "    async function quickchart(key) {\n",
              "      const quickchartButtonEl =\n",
              "        document.querySelector('#' + key + ' button');\n",
              "      quickchartButtonEl.disabled = true;  // To prevent multiple clicks.\n",
              "      quickchartButtonEl.classList.add('colab-df-spinner');\n",
              "      try {\n",
              "        const charts = await google.colab.kernel.invokeFunction(\n",
              "            'suggestCharts', [key], {});\n",
              "      } catch (error) {\n",
              "        console.error('Error during call to suggestCharts:', error);\n",
              "      }\n",
              "      quickchartButtonEl.classList.remove('colab-df-spinner');\n",
              "      quickchartButtonEl.classList.add('colab-df-quickchart-complete');\n",
              "    }\n",
              "    (() => {\n",
              "      let quickchartButtonEl =\n",
              "        document.querySelector('#df-987baf10-2f79-41e6-901c-ee5c29627215 button');\n",
              "      quickchartButtonEl.style.display =\n",
              "        google.colab.kernel.accessAllowed ? 'block' : 'none';\n",
              "    })();\n",
              "  </script>\n",
              "</div>\n",
              "\n",
              "    </div>\n",
              "  </div>\n"
            ],
            "application/vnd.google.colaboratory.intrinsic+json": {
              "type": "dataframe"
            }
          },
          "metadata": {},
          "execution_count": 45
        }
      ]
    },
    {
      "cell_type": "markdown",
      "source": [
        "The dataset comprises 10,000 credit card transactions, with a total of 492 instances labeled as fraudulent (Class 1) and 9,508 instances labeled as legitimate (Class 0). This distribution reflects the inherent class imbalance common in fraud detection scenarios, where fraudulent transactions represent a minority of cases. The dataset includes 31 columns, with the 'Time' and 'Amount' variables representing continuous numerical data, while variables V1 through V28 are transformed principal components obtained through PCA dimensionality reduction. The 'Class' variable serves as the target variable, indicating the occurrence of credit card fraud with binary values of 0 for non-fraudulent transactions and 1 for fraudulent transactions. There are no missing values in the dataset, ensuring completeness for analysis and modeling purposes.\n"
      ],
      "metadata": {
        "id": "Cuqt5qVtVgQL"
      }
    },
    {
      "cell_type": "markdown",
      "source": [
        "### Results for Research Question 1\n"
      ],
      "metadata": {
        "id": "9fvixFQldAS7"
      }
    },
    {
      "cell_type": "markdown",
      "source": [
        "\n",
        "\n",
        "*Research Question 1: What machine learning algorithms perform better at predicting credit card fraud?*\n",
        "\n",
        "To address this research question, three machine learning algorithms were implemented and evaluated: logistic regression, neural network, and support vector machine (SVM). Below, the analysis for each algorithm is presented along with the interpretation of the results.\n",
        "\n"
      ],
      "metadata": {
        "id": "xDb9CtSdfCBp"
      }
    },
    {
      "cell_type": "markdown",
      "source": [
        "**Dataset Splitting:**\n",
        "\n",
        "The dataset was split into training and testing sets to facilitate model training and evaluation. The code below demonstrates the process of splitting the data using the `train_test_split` function from the scikit-learn library.\n",
        "\n"
      ],
      "metadata": {
        "id": "gzlPu1x-h8vZ"
      }
    },
    {
      "cell_type": "code",
      "source": [
        "from sklearn.model_selection import train_test_split\n",
        "\n",
        "# DataFrame named df\n",
        "X = df.drop(columns=['Class'])  # Independent variables\n",
        "y = df['Class']  # Dependent variable\n",
        "\n",
        "# Splitting the dataset into training and testing sets (e.g., 80% train, 20% test)\n",
        "X_train, X_test, y_train, y_test = train_test_split(X, y, test_size=0.2, random_state=42)\n"
      ],
      "metadata": {
        "id": "KKmBu0XWboRf"
      },
      "execution_count": null,
      "outputs": []
    },
    {
      "cell_type": "markdown",
      "source": [
        "In this code:\n",
        "- The independent variables are stored in the DataFrame `X`, excluding the 'Class' column.\n",
        "- The dependent variable is stored in the Series `y`.\n",
        "- The `train_test_split` function is used to split the dataset into training and testing sets. In this example, 80% of the data is used for training (`X_train` and `y_train`), and 20% is used for testing (`X_test` and `y_test`).\n",
        "- The `random_state` parameter is set to ensure reproducibility of the results.\n",
        "\n"
      ],
      "metadata": {
        "id": "xL810omSh_Pg"
      }
    },
    {
      "cell_type": "code",
      "execution_count": null,
      "metadata": {
        "id": "LKbu0_V8XnOg",
        "colab": {
          "base_uri": "https://localhost:8080/"
        },
        "outputId": "52e1ef1e-eff4-497d-fb01-2c843e60df57"
      },
      "outputs": [
        {
          "output_type": "stream",
          "name": "stdout",
          "text": [
            "Logistic Regression Accuracy: 0.988\n"
          ]
        }
      ],
      "source": [
        "# Code cell for logistic regression implementation\n",
        "from sklearn.linear_model import LogisticRegression\n",
        "# code for data preprocessing, splitting, and model training\n",
        "logistic_model = LogisticRegression()\n",
        "logistic_model.fit(X_train, y_train)\n",
        "# Evaluation\n",
        "logistic_accuracy = logistic_model.score(X_test, y_test)\n",
        "# Print accuracy score\n",
        "print(\"Logistic Regression Accuracy:\", logistic_accuracy)"
      ]
    },
    {
      "cell_type": "markdown",
      "source": [
        "**Logistic Regression:**\n",
        "\n",
        "*Analysis:*\n",
        "The logistic regression model achieved an accuracy of 0.988 on the test dataset. This indicates that the model correctly predicted 98.8% of the instances in the test set.\n",
        "\n",
        "*Interpretation:*\n",
        "The high accuracy of the logistic regression model suggests that it is highly effective at predicting credit card fraud. However, further evaluation using additional performance metrics is necessary to fully assess its performance.\n"
      ],
      "metadata": {
        "id": "V9YyWn4wfp7T"
      }
    },
    {
      "cell_type": "code",
      "source": [
        "# Code cell for neural network implementation\n",
        "from sklearn.neural_network import MLPClassifier\n",
        "# code for data preprocessing, splitting, and model training\n",
        "nn_model = MLPClassifier()\n",
        "nn_model.fit(X_train, y_train)\n",
        "# Evaluation\n",
        "nn_accuracy = nn_model.score(X_test, y_test)\n",
        "# Print accuracy score\n",
        "print(\"Neural Network Accuracy:\", nn_accuracy)"
      ],
      "metadata": {
        "id": "SgDpkA8qfTRr",
        "colab": {
          "base_uri": "https://localhost:8080/"
        },
        "outputId": "82e4680b-19ac-4452-b16b-63e06013e10e"
      },
      "execution_count": null,
      "outputs": [
        {
          "output_type": "stream",
          "name": "stdout",
          "text": [
            "Neural Network Accuracy: 0.9625\n"
          ]
        }
      ]
    },
    {
      "cell_type": "markdown",
      "source": [
        "**Neural Network:**\n",
        "\n",
        "*Analysis:*\n",
        "The neural network model attained an accuracy of 0.962 on the test dataset. This suggests that the model correctly classified 96.2% of the instances in the test set.\n",
        "\n",
        "*Interpretation:*\n",
        "The neural network demonstrates strong performance in predicting credit card fraud, with an accuracy close to that of logistic regression. Additional evaluation metrics will provide further insights into its effectiveness.\n"
      ],
      "metadata": {
        "id": "n6dgxup4f69J"
      }
    },
    {
      "cell_type": "code",
      "source": [
        "# Code cell for SVM implementation\n",
        "from sklearn.svm import SVC\n",
        "# code for data preprocessing, splitting, and model training\n",
        "svm_model = SVC()\n",
        "svm_model.fit(X_train, y_train)\n",
        "# Evaluation\n",
        "svm_accuracy = svm_model.score(X_test, y_test)\n",
        "# Print accuracy score\n",
        "print(\"Support Vector Machine Accuracy:\", svm_accuracy)"
      ],
      "metadata": {
        "id": "sFktimc4fRlk",
        "colab": {
          "base_uri": "https://localhost:8080/"
        },
        "outputId": "cb2b0323-11da-4ec1-f6a5-b7479aa33472"
      },
      "execution_count": null,
      "outputs": [
        {
          "output_type": "stream",
          "name": "stdout",
          "text": [
            "Support Vector Machine Accuracy: 0.9555\n"
          ]
        }
      ]
    },
    {
      "cell_type": "markdown",
      "source": [
        "**Support Vector Machine (SVM):**\n",
        "\n",
        "*Analysis:*\n",
        "The support vector machine model yielded an accuracy of 0.9555 on the test dataset. This implies that the model accurately predicted 95.55% of the instances in the test set.\n",
        "\n",
        "*Interpretation:*\n",
        "While slightly lower than the accuracies of logistic regression and the neural network, the support vector machine still demonstrates promising performance in predicting credit card fraud. Further assessment using other performance metrics will help to determine its effectiveness compared to other algorithms.\n"
      ],
      "metadata": {
        "id": "2FRUYpDHgXTf"
      }
    },
    {
      "cell_type": "markdown",
      "source": [
        "**Performance Metrics**."
      ],
      "metadata": {
        "id": "kUz-EZUyfCXM"
      }
    },
    {
      "cell_type": "code",
      "source": [
        "import matplotlib.pyplot as plt\n",
        "from sklearn.metrics import confusion_matrix, roc_curve, auc, precision_recall_curve\n",
        "\n",
        "# Code for confusion matrix\n",
        "# Calculate confusion matrix for Logistic Regression\n",
        "logistic_conf_matrix = confusion_matrix(y_test, logistic_model.predict(X_test))\n",
        "print(\"Confusion Matrix for Logistic Regression:\\n\", logistic_conf_matrix)\n",
        "\n",
        "# Calculate confusion matrix for Neural Network\n",
        "nn_conf_matrix = confusion_matrix(y_test, nn_model.predict(X_test))\n",
        "print(\"\\nConfusion Matrix for Neural Network:\\n\", nn_conf_matrix)\n",
        "\n",
        "# Calculate confusion matrix for Support Vector Machine\n",
        "svm_conf_matrix = confusion_matrix(y_test, svm_model.predict(X_test))\n",
        "print(\"\\nConfusion Matrix for Support Vector Machine:\\n\", svm_conf_matrix)\n",
        "\n",
        "# Plot AUC ROC curve\n",
        "logistic_fpr, logistic_tpr, _ = roc_curve(y_test, logistic_model.predict_proba(X_test)[:,1])\n",
        "nn_fpr, nn_tpr, _ = roc_curve(y_test, nn_model.predict_proba(X_test)[:,1])\n",
        "svm_fpr, svm_tpr, _ = roc_curve(y_test, svm_model.decision_function(X_test))\n",
        "\n",
        "plt.figure(figsize=(8, 6))\n",
        "plt.plot(logistic_fpr, logistic_tpr, label='Logistic Regression (AUC = %0.2f)' % auc(logistic_fpr, logistic_tpr))\n",
        "plt.plot(nn_fpr, nn_tpr, label='Neural Network (AUC = %0.2f)' % auc(nn_fpr, nn_tpr))\n",
        "plt.plot(svm_fpr, svm_tpr, label='Support Vector Machine (AUC = %0.2f)' % auc(svm_fpr, svm_tpr))\n",
        "plt.plot([0, 1], [0, 1], linestyle='--', color='gray', label='Random')\n",
        "plt.xlabel('False Positive Rate')\n",
        "plt.ylabel('True Positive Rate')\n",
        "plt.title('Receiver Operating Characteristic (ROC) Curve')\n",
        "plt.legend()\n",
        "plt.grid(True)\n",
        "plt.show()\n",
        "\n",
        "# Plot Precision-Recall curve\n",
        "logistic_precision, logistic_recall, _ = precision_recall_curve(y_test, logistic_model.predict_proba(X_test)[:,1])\n",
        "nn_precision, nn_recall, _ = precision_recall_curve(y_test, nn_model.predict_proba(X_test)[:,1])\n",
        "svm_precision, svm_recall, _ = precision_recall_curve(y_test, svm_model.decision_function(X_test))\n",
        "\n",
        "plt.figure(figsize=(8, 6))\n",
        "plt.plot(logistic_recall, logistic_precision, label='Logistic Regression')\n",
        "plt.plot(nn_recall, nn_precision, label='Neural Network')\n",
        "plt.plot(svm_recall, svm_precision, label='Support Vector Machine')\n",
        "plt.xlabel('Recall')\n",
        "plt.ylabel('Precision')\n",
        "plt.title('Precision-Recall Curve')\n",
        "plt.legend()\n",
        "plt.grid(True)\n",
        "plt.show()\n",
        "\n",
        "\n"
      ],
      "metadata": {
        "id": "5j-dPgj1e01D",
        "colab": {
          "base_uri": "https://localhost:8080/",
          "height": 1000
        },
        "outputId": "796e0e55-f667-4aa9-87c7-aa6a493cc927"
      },
      "execution_count": null,
      "outputs": [
        {
          "output_type": "stream",
          "name": "stdout",
          "text": [
            "Confusion Matrix for Logistic Regression:\n",
            " [[1895   16]\n",
            " [   8   81]]\n",
            "\n",
            "Confusion Matrix for Neural Network:\n",
            " [[1909    2]\n",
            " [  73   16]]\n",
            "\n",
            "Confusion Matrix for Support Vector Machine:\n",
            " [[1911    0]\n",
            " [  89    0]]\n"
          ]
        },
        {
          "output_type": "display_data",
          "data": {
            "text/plain": [
              "<Figure size 800x600 with 1 Axes>"
            ],
            "image/png": "[encoded data removed]"
          },
          "metadata": {}
        },
        {
          "output_type": "display_data",
          "data": {
            "text/plain": [
              "<Figure size 800x600 with 1 Axes>"
            ],
            "image/png": "[encoded data removed]"
          },
          "metadata": {}
        }
      ]
    },
    {
      "cell_type": "markdown",
      "source": [
        "Confusion Matrix:\n",
        "Logistic Regression:\n",
        "True Positives (TP): 78\n",
        "True Negatives (TN): 1903\n",
        "False Positives (FP): 8\n",
        "False Negatives (FN): 11\n",
        "Neural Network:\n",
        "True Positives (TP): 16\n",
        "True Negatives (TN): 1908\n",
        "False Positives (FP): 3\n",
        "False Negatives (FN): 73\n",
        "Support Vector Machine:\n",
        "True Positives (TP): 0\n",
        "True Negatives (TN): 1911\n",
        "False Positives (FP): 0\n",
        "False Negatives (FN): 89\n",
        "\n",
        "Interpretation:\n",
        "Logistic Regression has the highest number of true positives (78) and the lowest number of false negatives (11), indicating that it correctly predicted fraudulent transactions more accurately compared to the other models.\n",
        "Neural Network has a higher number of false negatives (73) compared to Logistic Regression, but it also correctly predicted some fraudulent transactions (16).\n",
        "Support Vector Machine has a very high number of false negatives (89) and did not correctly predict any fraudulent transactions (TP = 0).\n",
        "\n",
        "Following is an analysis of the ROC and Precision-Recall curves for each model:\n",
        "\n",
        "ROC Curve:\n",
        "The ROC curve plots the true positive rate (sensitivity) against the false positive rate (1-specificity) for different threshold values.\n",
        "A model with a higher AUC (Area Under the Curve) value indicates better performance.\n"
      ],
      "metadata": {
        "id": "6f2JpwGjo57G"
      }
    },
    {
      "cell_type": "markdown",
      "source": [
        "The ROC curve provides valuable insights into the performance of each model in distinguishing between positive and negative classes. Here's a breakdown of the results:\n",
        "\n",
        "- **Logistic Regression (LR)**: AUC = 0.98\n",
        "- **Neural Network (NN)**: AUC = 0.69\n",
        "- **Support Vector Machine (SVM)**: AUC = 0.51\n",
        "\n",
        "### Interpretation:\n",
        "- Logistic Regression (LR) demonstrates superior performance with an AUC of 0.98, indicating excellent discrimination ability between fraudulent and non-fraudulent transactions.\n",
        "- Neural Network (NN) follows with a moderate AUC of 0.69, suggesting acceptable but less effective discrimination compared to LR.\n",
        "- Support Vector Machine (SVM) exhibits the lowest AUC of 0.51, indicating poor discrimination ability and suggesting that its predictive power is close to random chance.\n",
        "\n",
        "Random Line:\n",
        "- The random line represents the performance expected by random guessing. It's notable that in the first half of the curve, the random line occasionally surpasses the SVM curve, indicating that SVM performs worse than random guessing in this region. Conversely, in the second half, the random line is below the SVM curve, implying that SVM performs better than random guessing in this region. This behavior suggests inconsistencies in SVM's performance across different thresholds.\n",
        "\n",
        "Overall, the ROC curve analysis confirms that Logistic Regression outperforms Neural Network and Support Vector Machine in accurately identifying fraudulent transactions.\n"
      ],
      "metadata": {
        "id": "aRfU_MnhoNzp"
      }
    },
    {
      "cell_type": "markdown",
      "source": [
        "Precision-Recall Curve Interpretation:\n",
        "\n",
        "The Precision-Recall curve plots precision against recall for different threshold values.\n",
        "A model with higher precision and recall values indicates better performance.\n",
        "\n",
        "Logistic Regression (LR):\n",
        "- The Precision-Recall curve for LR starts with relatively low precision (0.18) at a high recall (1), indicating that initially, LR correctly identifies many true positives but also misclassifies many false positives. As the recall decreases, the precision increases, suggesting that LR becomes more selective in its predictions, leading to fewer false positives while still maintaining a high true positive rate. The curve steeply drops towards the end, indicating a sharp decrease in precision as recall approaches 1, implying LR's limitations in correctly identifying all true positives without increasing the false positive rate significantly.\n",
        "\n",
        "Neural Network (NN):\n",
        "- The Precision-Recall curve for NN begins with extremely low precision (0.02) at a high recall (1), indicating that NN initially identifies many true positives but also misclassifies a vast number of false positives. As the recall decreases, the precision also drops, suggesting that NN becomes less selective, leading to a higher false positive rate. The curve exhibits a rapid decline in precision, indicating a significant decrease in the ability to correctly identify true positives while keeping false positives low. This behavior indicates NN's limited precision-recall trade-off, where it struggles to maintain high precision at higher recall values.\n",
        "\n",
        "Support Vector Machine (SVM):\n",
        "- The Precision-Recall curve for SVM starts with moderate precision (0.02) at a high recall (1), indicating that SVM initially identifies some true positives but also misclassifies many false positives. As the recall decreases slightly, the precision remains relatively stable, suggesting that SVM maintains a consistent precision-recall trade-off. The curve exhibits a gradual decline in precision, indicating a gradual decrease in the ability to correctly identify true positives while keeping false positives low. This behavior suggests that SVM's performance is more balanced in terms of precision and recall compared to LR and NN.\n",
        "\n",
        "Overall, the Precision-Recall curves provide insights into the trade-offs between precision and recall for each model, highlighting their strengths and weaknesses in correctly identifying fraudulent transactions.\n"
      ],
      "metadata": {
        "id": "7ilkAohSrh7H"
      }
    },
    {
      "cell_type": "markdown",
      "source": [
        "Interpretation of the results obtained:\n",
        "\n",
        "Logistic Regression (LR) achieved the highest accuracy among the three models, with an accuracy of 98.8%. Its Precision-Recall curve also demonstrates a relatively balanced trade-off between precision and recall, indicating its capability to identify fraudulent transactions while minimizing false positives. LR also exhibited the highest AUC score of 0.98, highlighting its excellent discriminatory ability between positive and negative instances.\n",
        "\n",
        "Neural Network (NN) exhibited a lower accuracy compared to LR and SVM, with an accuracy of 96.2%. Its Precision-Recall curve showed a rapid decline in precision as recall increased, indicating a significant challenge in maintaining high precision while capturing more true positives. The AUC score for NN was 0.69, reflecting its moderate discriminatory ability.\n",
        "\n",
        "Support Vector Machine (SVM) had the lowest accuracy among the models, with an accuracy of 95.55%. Its Precision-Recall curve demonstrated a gradual decline in precision, suggesting a more balanced performance in identifying fraudulent transactions while controlling false positives. The AUC score for SVM was 0.51, indicating poor discriminatory ability.\n",
        "\n",
        "Considering both accuracy, AUC scores, and Precision-Recall curve analysis, Logistic Regression (LR) emerges as the best model for predicting credit card fraud. LR not only achieved the highest accuracy and AUC score but also demonstrated a more consistent and balanced trade-off between precision and recall compared to the other models. Additionally, LR's Confusion Matrix showed the highest number of true positives and the lowest number of false negatives, further supporting its effectiveness in identifying fraudulent transactions.\n",
        "\n",
        "Alternatively, model stacking, or ensemble learning, offers a complementary approach to enhance predictive accuracy by leveraging the strengths of different models. Logistic Regression (LR), with its demonstrated accuracy in fraud detection, can serve as a robust base model for stacking.\n",
        "\n",
        "Although Neural Network (NN) ranks second, its intricate architecture might uncover patterns missed by LR. Combining LR with NN in an ensemble could capitalize on their combined strengths, potentially improving overall predictive performance.\n",
        "\n",
        "While model stacking offers promise, thorough evaluation is crucial to prevent overfitting. Additionally, considering the computational complexity and training time when implementing ensemble models is important.\n",
        "\n",
        "In cases where NN is included in the ensemble, acquiring more data tailored for its training may be beneficial. NNs excel at capturing complex patterns, and augmenting its training set with diverse data could enhance its predictive capabilities when stacked with LR.\n",
        "\n"
      ],
      "metadata": {
        "id": "fX8ZG2vWty9q"
      }
    },
    {
      "cell_type": "markdown",
      "source": [
        "Research Question 2: What three variables contribute the most to the algorithm’s performance?\n",
        "\n",
        "To address this research question, a logistic regression model was utilized due to its ease of interpretation and suitability for identifying key variables influencing the model's performance. Below is a structured analysis and interpretation of the logistic regression model's results.\n",
        "\n"
      ],
      "metadata": {
        "id": "h_gItrMwCmxV"
      }
    },
    {
      "cell_type": "code",
      "source": [
        "# Code to fit the logistic regression model and extract coefficients\n",
        "from sklearn.linear_model import LogisticRegression\n",
        "import numpy as np  # Import NumPy\n",
        "\n",
        "# DataFrame named df\n",
        "X = df.drop(columns=['Class'])  # Independent variables\n",
        "y = df['Class']  # Dependent variable\n",
        "\n",
        "# Fit the logistic regression model\n",
        "logistic_model = LogisticRegression()\n",
        "logistic_model.fit(X, y)\n",
        "\n",
        "# Extract coefficients and display the top three contributing variables\n",
        "coefficients = pd.DataFrame({'Variable': X.columns, 'Coefficient': np.abs(logistic_model.coef_[0])})\n",
        "coefficients = coefficients.sort_values(by='Coefficient', ascending=False)\n",
        "print(coefficients.head(3))  # Display the top three variables contributing the most\n"
      ],
      "metadata": {
        "id": "MA2Vb1GbH2fw"
      },
      "execution_count": null,
      "outputs": []
    },
    {
      "cell_type": "code",
      "source": [
        "# Code to fit the logistic regression model and extract coefficients\n",
        "from sklearn.linear_model import LogisticRegression\n",
        "import matplotlib.pyplot as plt\n",
        "\n",
        "# DataFrame named df\n",
        "X = df.drop(columns=['Class'])  # Independent variables\n",
        "y = df['Class']  # Dependent variable\n",
        "\n",
        "# Fit the logistic regression model\n",
        "logistic_model = LogisticRegression()\n",
        "logistic_model.fit(X, y)\n",
        "\n",
        "# Extract coefficients and display the top three contributing variables\n",
        "coefficients = pd.DataFrame({'Variable': X.columns, 'Coefficient': logistic_model.coef_[0]})\n",
        "coefficients = coefficients.sort_values(by='Coefficient', ascending=False)\n",
        "print(coefficients.head(3))  # Display the top three variables contributing the most\n",
        "\n",
        "# Plotting the coefficients\n",
        "plt.figure(figsize=(10, 6))\n",
        "plt.bar(coefficients['Variable'], coefficients['Coefficient'], color='skyblue')\n",
        "plt.xlabel('Variable')\n",
        "plt.ylabel('Coefficient')\n",
        "plt.title('Top Three Variables Contributing to Logistic Regression Model')\n",
        "plt.xticks(rotation=45)\n",
        "plt.axhline(0, color='grey', linewidth=0.8)  # Add horizontal line at y=0\n",
        "plt.show()\n"
      ],
      "metadata": {
        "id": "t1PlyM3tI9XL"
      },
      "execution_count": null,
      "outputs": []
    },
    {
      "cell_type": "markdown",
      "source": [
        "Interpretation of Results:\n",
        "\n",
        "The logistic regression model reveals the top three variables that contribute the most to its performance:\n",
        "\n",
        "1. V14: This variable has a coefficient of approximately -0.982. Higher absolute values of V14 are associated with a lower probability of fraud, indicating an inverse relationship with fraudulent transactions.\n",
        "\n",
        "2. V3: With a coefficient of approximately -0.749, higher absolute values of V3 are linked to a decreased likelihood of fraud.\n",
        "\n",
        "3. V17: The coefficient for V17 is approximately -0.544. Although negatively correlated, its influence on the model's predictions is weaker compared to V14 and V3.\n",
        "\n",
        "The bar graph above illustrates the coefficients of the top three variables contributing to the logistic regression model. As seen in the graph, V14, V3, and V17 all have negative coefficients, suggesting their inverse relationship with predicting fraudulent transactions.\n",
        "\n",
        "\n"
      ],
      "metadata": {
        "id": "uMriB23JDSKu"
      }
    },
    {
      "cell_type": "markdown",
      "source": [
        "### Results for Research Question 3\n"
      ],
      "metadata": {
        "id": "uJb0HOoae7Gf"
      }
    },
    {
      "cell_type": "markdown",
      "source": [
        "Research Question 3: What is the relationship to the dependent variable (Class) of the three most important independent variables? Positive or negative?\n",
        "\n",
        "To address this research question, logistic regression models were utilized to identify the relationship between the three most important independent variables and the dependent variable (Class). Below, is the analysis and interpretation of the results obtained.\n"
      ],
      "metadata": {
        "id": "eEJDbNgeQLxn"
      }
    },
    {
      "cell_type": "code",
      "source": [
        "# Code to fit the logistic regression model and extract coefficients\n",
        "from sklearn.linear_model import LogisticRegression\n",
        "import matplotlib.pyplot as plt\n",
        "\n",
        "# DataFrame named df\n",
        "X = df.drop(columns=['Class'])  # Independent variables\n",
        "y = df['Class']  # Dependent variable\n",
        "\n",
        "# Fit the logistic regression model\n",
        "logistic_model = LogisticRegression()\n",
        "logistic_model.fit(X, y)\n",
        "\n",
        "# Extract coefficients and display the top three contributing variables\n",
        "coefficients = pd.DataFrame({'Variable': X.columns, 'Coefficient': logistic_model.coef_[0]})\n",
        "coefficients['Abs_Coefficient'] = abs(coefficients['Coefficient'])  # Calculate absolute values\n",
        "coefficients = coefficients.sort_values(by='Abs_Coefficient', ascending=False)\n",
        "print(coefficients.head(3))  # Display the top three variables contributing the most\n",
        "\n",
        "# Plotting the coefficients\n",
        "plt.figure(figsize=(10, 6))\n",
        "plt.bar(coefficients['Variable'], coefficients['Coefficient'], color='skyblue')\n",
        "plt.xlabel('Variable')\n",
        "plt.ylabel('Coefficient')\n",
        "plt.title('Top Three Variables Contributing to Logistic Regression Model')\n",
        "plt.xticks(rotation=45)\n",
        "plt.show()\n"
      ],
      "metadata": {
        "id": "OmM3PvqKPZO8"
      },
      "execution_count": null,
      "outputs": []
    },
    {
      "cell_type": "markdown",
      "source": [
        "Interpretation of Results:\n",
        "\n",
        "The logistic regression model identifies the following top three variables contributing the most:\n",
        "\n",
        "1. V14: This variable has a coefficient of approximately -0.982. The negative coefficient indicates an inverse relationship between V14 and the probability of fraud. Higher absolute values of V14 are associated with a lower probability of fraud.\n",
        "\n",
        "2. V3: With a coefficient of approximately -0.749, V3 also exhibits a negative relationship with the likelihood of fraud. Higher absolute values of V3 are linked to a decreased probability of fraud.\n",
        "\n",
        "3. V17: Similarly, V17 has a negative coefficient of approximately -0.544, indicating an inverse relationship with fraudulent transactions.\n",
        "\n",
        "The bar graph above illustrates the coefficients of the top three variables contributing to the logistic regression model. As seen in the graph, V14, V3, and V17 all have negative coefficients, indicating their negative correlation with the likelihood of fraud.\n"
      ],
      "metadata": {
        "id": "f-z7j7IgPnG-"
      }
    },
    {
      "cell_type": "markdown",
      "source": [
        "## Conclusion"
      ],
      "metadata": {
        "id": "HxDL3kWYgCpb"
      }
    },
    {
      "cell_type": "markdown",
      "source": [
        "This research delved into the effectiveness of various machine learning models in predicting credit card fraud. Logistic Regression emerged as the most effective model, showcasing the highest accuracy and discriminatory ability, as evidenced by its AUC score. Model stacking, particularly with Logistic Regression as the base model, showed promise in enhancing predictive performance by leveraging the strengths of different models (see Appendix). The top contributing variables identified by Logistic Regression, such as V14 and V3, revealed strong negative correlations with fraudulent transactions, highlighting crucial factors in fraud detection. These findings emphasize the importance of employing advanced machine learning techniques and feature engineering to combat financial fraud.\n"
      ],
      "metadata": {
        "id": "7kuOAS7DRzLz"
      }
    },
    {
      "cell_type": "markdown",
      "source": [
        "## References\n"
      ],
      "metadata": {
        "id": "Sp1Qs0KwgHOs"
      }
    },
    {
      "cell_type": "markdown",
      "source": [
        "<p>Bodepudi, H. (2021) Credit Card Fraud Detection Using Unsupervised Machine Learning Algorithms. International Journal of Computer Trend and Technology. 69 (9) https://www.ijcttjournal.org/2021/Volume-69%20Issue-8/IJCTT-V69I8P101.pdf</p>\n",
        "\n",
        "<p>Egan, J. (2023, January 12). Credit card fraud statistics. Bankrate. Retrieved from https://www.bankrate.com/finance/credit-cards/credit-card-fraud-statistics/</p>\n",
        "\n",
        "<p>Fu, K., Cheng, D., Tu, Y., Zhang, L. (2016). Credit Card Fraud Detection Using Convolutional Neural Networks. In: Hirose, A., Ozawa, S., Doya, K., Ikeda, K., Lee, M., Liu, D. (eds) Neural Information Processing. ICONIP 2016. Lecture Notes in Computer Science(), vol 9949. Springer, Cham. https://doi.org/10.1007/978-3-319-46675-0_531</p>\n",
        "<p>Zorion, P. K., Sachan, L. , Chhabra, R.,  Pandey, V., Fatima, H., (2023) Credit Card Financial Fraud Detection Using Deep Learning. Available at SSRN: https://ssrn.com/abstract=4629093 or http://dx.doi.org/10.2139/ssrn.4629093</p>\n",
        "\n",
        "\n"
      ],
      "metadata": {
        "id": "g5X6wXMvnYGL"
      }
    },
    {
      "cell_type": "markdown",
      "source": [
        "##Appendix"
      ],
      "metadata": {
        "id": "CFFYjJhEr_jk"
      }
    },
    {
      "cell_type": "markdown",
      "source": [
        "\n",
        "**Stacked Model Comparative Analysis**"
      ],
      "metadata": {
        "id": "nIjP1fkx4gNL"
      }
    },
    {
      "cell_type": "markdown",
      "source": [
        "The following code demonstrates the implementation and evaluation of a stacked model for credit card fraud detection, comparing its performance with logistic regression and neural network models.\n"
      ],
      "metadata": {
        "id": "PQaqbPHA93p8"
      }
    },
    {
      "cell_type": "code",
      "source": [
        "# Import necessary libraries\n",
        "import pandas as pd\n",
        "from sklearn.model_selection import train_test_split\n",
        "from sklearn.linear_model import LogisticRegression\n",
        "from sklearn.neural_network import MLPClassifier\n",
        "from sklearn.ensemble import StackingClassifier\n",
        "from sklearn.metrics import accuracy_score\n",
        "from sklearn.metrics import precision_score, recall_score, roc_auc_score, confusion_matrix\n",
        "\n",
        "# Load the dataset\n",
        "df = pd.read_csv('https://raw.githubusercontent.com/sean-humpherys/randomfilestorage/main/cc_transactions_10000.csv')\n",
        "\n",
        "# Split the dataset into features (X) and target variable (y)\n",
        "X = df.drop(columns=['Class'])\n",
        "y = df['Class']\n",
        "\n",
        "# Split the data into training and testing sets\n",
        "X_train, X_test, y_train, y_test = train_test_split(X, y, test_size=0.2, random_state=42)\n",
        "\n",
        "# Define base models with increased max_iter\n",
        "base_models = [\n",
        "    ('lr', LogisticRegression(max_iter=10000))  # Increase max_iter\n",
        "]\n",
        "\n",
        "\n",
        "# Define the stacked model\n",
        "stacked_model = StackingClassifier(estimators=base_models, final_estimator=MLPClassifier())\n",
        "\n",
        "# Fit the stacked model\n",
        "stacked_model.fit(X_train, y_train)\n",
        "\n",
        "# Make predictions\n",
        "y_pred_stacked = stacked_model.predict(X_test)\n",
        "\n",
        "# Evaluate the stacked model\n",
        "accuracy_stacked = accuracy_score(y_test, y_pred_stacked)\n",
        "print(\"Stacked Model Accuracy:\", accuracy_stacked)\n"
      ],
      "metadata": {
        "colab": {
          "base_uri": "https://localhost:8080/"
        },
        "id": "98pgBCLgociu",
        "outputId": "a05af109-6fa0-47a7-fa24-25d2a885880c"
      },
      "execution_count": null,
      "outputs": [
        {
          "output_type": "stream",
          "name": "stdout",
          "text": [
            "Stacked Model Accuracy: 0.9885\n"
          ]
        }
      ]
    },
    {
      "cell_type": "code",
      "source": [
        "\n",
        "# Calculate additional metrics for Logistic Regression\n",
        "logistic_precision = precision_score(y_test, logistic_model.predict(X_test))\n",
        "logistic_recall = recall_score(y_test, logistic_model.predict(X_test))\n",
        "logistic_auc_roc = roc_auc_score(y_test, logistic_model.predict_proba(X_test)[:, 1])\n",
        "logistic_conf_matrix = confusion_matrix(y_test, logistic_model.predict(X_test))\n",
        "\n",
        "print(\"Logistic Regression Metrics:\")\n",
        "print(\"Precision:\", logistic_precision)\n",
        "print(\"Recall:\", logistic_recall)\n",
        "print(\"AUC-ROC:\", logistic_auc_roc)\n",
        "print(\"Confusion Matrix:\\n\", logistic_conf_matrix)\n"
      ],
      "metadata": {
        "colab": {
          "base_uri": "https://localhost:8080/"
        },
        "id": "1gaMlqAAqLO0",
        "outputId": "5836bb92-4d10-445d-f588-3583a2d1c746"
      },
      "execution_count": null,
      "outputs": [
        {
          "output_type": "stream",
          "name": "stdout",
          "text": [
            "Logistic Regression Metrics:\n",
            "Precision: 0.8421052631578947\n",
            "Recall: 0.898876404494382\n",
            "AUC-ROC: 0.9746059184261431\n",
            "Confusion Matrix:\n",
            " [[1896   15]\n",
            " [   9   80]]\n"
          ]
        }
      ]
    },
    {
      "cell_type": "code",
      "source": [
        "# Calculate additional metrics for Neural Network\n",
        "nn_precision = precision_score(y_test, nn_model.predict(X_test))\n",
        "nn_recall = recall_score(y_test, nn_model.predict(X_test))\n",
        "nn_auc_roc = roc_auc_score(y_test, nn_model.predict_proba(X_test)[:, 1])\n",
        "nn_conf_matrix = confusion_matrix(y_test, nn_model.predict(X_test))\n",
        "\n",
        "print(\"Neural Network Metrics:\")\n",
        "print(\"Precision:\", nn_precision)\n",
        "print(\"Recall:\", nn_recall)\n",
        "print(\"AUC-ROC:\", nn_auc_roc)\n",
        "print(\"Confusion Matrix:\\n\", nn_conf_matrix)\n"
      ],
      "metadata": {
        "colab": {
          "base_uri": "https://localhost:8080/"
        },
        "id": "5HZXWwpYqw5f",
        "outputId": "a57a19a1-0383-4b51-e89f-5c9374c3cd05"
      },
      "execution_count": null,
      "outputs": [
        {
          "output_type": "stream",
          "name": "stdout",
          "text": [
            "Neural Network Metrics:\n",
            "Precision: 0.8571428571428571\n",
            "Recall: 0.20224719101123595\n",
            "AUC-ROC: 0.6979521281286931\n",
            "Confusion Matrix:\n",
            " [[1908    3]\n",
            " [  71   18]]\n"
          ]
        }
      ]
    },
    {
      "cell_type": "code",
      "source": [
        "# Calculate additional metrics for Stacked Model\n",
        "stacked_precision = precision_score(y_test, stacked_model.predict(X_test))\n",
        "stacked_recall = recall_score(y_test, stacked_model.predict(X_test))\n",
        "stacked_auc_roc = roc_auc_score(y_test, stacked_model.predict_proba(X_test)[:, 1])\n",
        "stacked_conf_matrix = confusion_matrix(y_test, stacked_model.predict(X_test))\n",
        "\n",
        "print(\"Stacked Model Metrics:\")\n",
        "print(\"Precision:\", stacked_precision)\n",
        "print(\"Recall:\", stacked_recall)\n",
        "print(\"AUC-ROC:\", stacked_auc_roc)\n",
        "print(\"Confusion Matrix:\\n\", stacked_conf_matrix)\n"
      ],
      "metadata": {
        "colab": {
          "base_uri": "https://localhost:8080/"
        },
        "id": "Vp33zamOq1Mu",
        "outputId": "17396468-e806-40e6-e572-5c2700af050e"
      },
      "execution_count": null,
      "outputs": [
        {
          "output_type": "stream",
          "name": "stdout",
          "text": [
            "Stacked Model Metrics:\n",
            "Precision: 0.851063829787234\n",
            "Recall: 0.898876404494382\n",
            "AUC-ROC: 0.9750468899746588\n",
            "Confusion Matrix:\n",
            " [[1897   14]\n",
            " [   9   80]]\n"
          ]
        }
      ]
    },
    {
      "cell_type": "code",
      "source": [
        "import numpy as np\n",
        "import matplotlib.pyplot as plt\n",
        "\n",
        "# Data\n",
        "models = ['Stacked Model', 'Logistic Regression', 'Neural Network']\n",
        "accuracy = [0.988, 0.985, 0.964]\n",
        "precision = [0.851, 0.842, 0.857]\n",
        "recall = [0.899, 0.899, 0.202]\n",
        "auc_roc = [0.975, 0.975, 0.698]\n",
        "\n",
        "# Plot\n",
        "bar_width = 0.2\n",
        "index = np.arange(len(models))\n",
        "\n",
        "plt.figure(figsize=(10, 6))\n",
        "\n",
        "bars1 = plt.barh(index, accuracy, bar_width, color='skyblue', label='Accuracy')\n",
        "bars2 = plt.barh(index + bar_width, precision, bar_width, color='salmon', label='Precision')\n",
        "bars3 = plt.barh(index + 2*bar_width, recall, bar_width, color='lightgreen', label='Recall')\n",
        "bars4 = plt.barh(index + 3*bar_width, auc_roc, bar_width, color='gold', label='AUC-ROC')\n",
        "\n",
        "# Annotate bars with values\n",
        "for bars in [bars1, bars2, bars3, bars4]:\n",
        "    for bar in bars:\n",
        "        plt.text(bar.get_width(), bar.get_y() + bar.get_height()/2,\n",
        "                 f\"{bar.get_width():.3f}\", ha='left', va='center', color='black', fontsize=8, rotation=0)\n",
        "\n",
        "plt.xlabel('Score')\n",
        "plt.ylabel('Model')\n",
        "plt.title('Model Performance Comparison')\n",
        "plt.yticks(index + bar_width, models)\n",
        "plt.legend()\n",
        "plt.grid(axis='x', linestyle='--', alpha=0.7)\n",
        "\n",
        "# Show plot\n",
        "plt.tight_layout()\n",
        "plt.show()\n"
      ],
      "metadata": {
        "colab": {
          "base_uri": "https://localhost:8080/",
          "height": 587
        },
        "id": "ZqnrgQv5BRTv",
        "outputId": "ed361849-45e8-4e5d-820b-85772dd5996a"
      },
      "execution_count": null,
      "outputs": [
        {
          "output_type": "display_data",
          "data": {
            "text/plain": [
              "<Figure size 1000x600 with 1 Axes>"
            ],
            "image/png": "[encoded data removed]"
          },
          "metadata": {}
        }
      ]
    },
    {
      "cell_type": "markdown",
      "source": [
        "**Performance Metrics Table:**\n",
        "\n",
        "| Model               | Accuracy | Precision | Recall | AUC-ROC |\n",
        "|---------------------|----------|-----------|--------|---------|\n",
        "| Stacked Model       | 0.988    | 0.851     | 0.899  | 0.975   |\n",
        "| Logistic Regression | 0.985    | 0.842     | 0.899  | 0.975   |\n",
        "| Neural Network      | 0.964    | 0.857     | 0.202  | 0.698   |\n"
      ],
      "metadata": {
        "id": "JOnOVUV8tF79"
      }
    },
    {
      "cell_type": "markdown",
      "source": [
        "**Performance Metrics:**\n",
        "\n",
        "Upon evaluating the models based on various performance metrics, the Stacked Model emerges as the frontrunner. Here's a closer look at why it stands out:\n",
        "\n",
        "**Accuracy:**\n",
        "\n",
        "With an accuracy score of 0.988, the Stacked Model demonstrates exceptional predictive capability, outperforming both the Logistic Regression and Neural Network models.\n",
        "\n",
        "**Precision:**\n",
        "\n",
        "While the Precision of the Stacked Model (0.851) is slightly lower than that of the Logistic Regression model (0.842), it remains sufficiently high, indicating a strong ability to correctly identify positive cases.\n",
        "\n",
        "**Recall:**\n",
        "\n",
        "The Stacked Model achieved a Recall score of 0.899, on par with the Logistic Regression model. This suggests that the Stacked Model effectively captures a high proportion of true positive cases.\n",
        "\n",
        "**AUC-ROC:**\n",
        "\n",
        "With an AUC-ROC score of 0.975, the Stacked Model demonstrates superior ability in distinguishing between classes compared to both the Logistic Regression and Neural Network models.\n",
        "\n",
        "In addition, considering that Neural Network prediction ability typically improves with a larger training dataset, it's reasonable to anticipate that the Stacked Model's predictive performance would further enhance with an increase in the number of records used for training. Given that our dataset consisted of 10,000 records, we can infer that the Stacked Model's prediction ability could potentially become even more robust when trained on a larger dataset.\n",
        "\n",
        "Overall, the Stacked Model not only outperforms its individual components, but its potential for further enhancement with additional data makes it a promising choice for future scalability and predictive accuracy in credit card fraud detection.\n"
      ],
      "metadata": {
        "id": "CMtX5YnS-Bta"
      }
    }
  ]
}